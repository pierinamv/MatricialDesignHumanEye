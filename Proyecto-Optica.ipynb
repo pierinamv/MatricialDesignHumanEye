{
 "cells": [
  {
   "cell_type": "markdown",
   "id": "8a4bae39-e57e-43d8-b856-60dbfa776084",
   "metadata": {},
   "source": [
    "## Escribiendo fórmulas ópticas para lentes gruesas"
   ]
  },
  {
   "cell_type": "code",
   "execution_count": 32,
   "id": "dca3ae13-58c6-40b1-bb9c-425c5856e64a",
   "metadata": {
    "tags": []
   },
   "outputs": [],
   "source": [
    "def foco(n,R1,R2,d):\n",
    "    f_ = ( n*R1*R2 )/( n*(d+R2-R1) - d )\n",
    "    f = f_/(n-1)\n",
    "    return f"
   ]
  },
  {
   "cell_type": "markdown",
   "id": "2e388e2a-ab31-4076-af64-5f492d21db4f",
   "metadata": {},
   "source": [
    "## 1. Analizando la lente-córnea"
   ]
  },
  {
   "cell_type": "markdown",
   "id": "ae466869-c50a-4439-b7f6-93a22f254107",
   "metadata": {},
   "source": [
    "### 1.1 Longitud focal y puntos nodales de la córnea"
   ]
  },
  {
   "cell_type": "code",
   "execution_count": 33,
   "id": "0c285924-b9f8-4f81-8d15-c94e184cb74f",
   "metadata": {
    "tags": []
   },
   "outputs": [],
   "source": [
    "def cornea(onda_nm):\n",
    "    \n",
    "    R1 = 7.8\n",
    "    R2 = 6.7\n",
    "    th = 0.5\n",
    "    n = 1.\n",
    "    \n",
    "    if onda_nm == '400':\n",
    "        n = 1.3898\n",
    "    elif onda_nm == '550':\n",
    "        n = 1.3774\n",
    "    elif onda_nm == '700':\n",
    "        n = 1.3730\n",
    "        \n",
    "    focal = foco(n,R1,R2,th)\n",
    "    \n",
    "    h1 = -1.*focal*(n-1)*th/(n*R2)\n",
    "    \n",
    "    h2 = -1.*focal*(n-1)*th/(n*R1)\n",
    "\n",
    "    return focal,h1,h2,n,R1,R2,th"
   ]
  },
  {
   "cell_type": "code",
   "execution_count": 34,
   "id": "d21857ae-7a83-4bb3-b6e8-378be47a26b6",
   "metadata": {
    "tags": []
   },
   "outputs": [
    {
     "name": "stdout",
     "output_type": "stream",
     "text": [
      "Longitud focal de la cornea (mm):  -139.68929229523854\n",
      "Distancia a la superficie 1 de la córnea (mm):  2.9238012414909895\n",
      "Distancia a la superficie 2 de la córnea (mm):  2.5114702971781577\n",
      "Distancia a la superficie 2 de la córnea (mm):  1.3898\n"
     ]
    }
   ],
   "source": [
    "f_c,h1_c,h2_c,n_c,R1_c,R2_c,th_c = cornea('400')\n",
    "print(\"Longitud focal de la cornea (mm): \", f_c)\n",
    "print(\"Distancia a la superficie 1 de la córnea (mm): \",h1_c)\n",
    "print(\"Distancia a la superficie 2 de la córnea (mm): \",h2_c)\n",
    "print(\"Distancia a la superficie 2 de la córnea (mm): \",n_c)"
   ]
  },
  {
   "cell_type": "code",
   "execution_count": 35,
   "id": "04afed15-1ee6-4b34-a558-ac393bd0ab8f",
   "metadata": {
    "tags": []
   },
   "outputs": [
    {
     "name": "stdout",
     "output_type": "stream",
     "text": [
      "1.3898\n"
     ]
    }
   ],
   "source": [
    "print(n_c)"
   ]
  },
  {
   "cell_type": "markdown",
   "id": "c44663b6-0b1d-4d34-8349-113a4fa6b0c0",
   "metadata": {
    "tags": []
   },
   "source": [
    "## 2. Analizando la lente-aqueous"
   ]
  },
  {
   "cell_type": "code",
   "execution_count": 36,
   "id": "c7d7f01d-0875-443e-ba23-8e9e3cca2f3d",
   "metadata": {
    "tags": []
   },
   "outputs": [],
   "source": [
    "def aqueous(onda_nm):\n",
    "    \n",
    "    R1 = 6.7\n",
    "    R2 = 10.0\n",
    "    th = 3.0\n",
    "    n = 1.\n",
    "    \n",
    "    if onda_nm == '400':\n",
    "        n = 1.3515\n",
    "    elif onda_nm == '550':\n",
    "        n = 1.3388\n",
    "    elif onda_nm == '700':\n",
    "        n = 1.3343\n",
    "        \n",
    "    focal = foco(n,R1,R2,th)\n",
    "    \n",
    "    h1 = -1.*focal*(n-1)*th/(n*R2)\n",
    "    \n",
    "    h2 = -1.*focal*(n-1)*th/(n*R1)\n",
    "    \n",
    "    return focal,h1,h2,n,R1,R2,th"
   ]
  },
  {
   "cell_type": "code",
   "execution_count": 37,
   "id": "ee07c776-13db-49f6-8476-4373d3c04a73",
   "metadata": {
    "tags": []
   },
   "outputs": [
    {
     "name": "stdout",
     "output_type": "stream",
     "text": [
      "Longitud focal del arqueous (mm):  46.715749403090946\n",
      "Distancia a la superficie 1 del arqueous (mm):  -3.644969126567473\n",
      "Distancia a la superficie 2 del arqueous (mm):  -5.440252427712646\n"
     ]
    }
   ],
   "source": [
    "f_a,h1_a,h2_a,n_a,R1_a,R2_a,th_a = aqueous('400')\n",
    "print(\"Longitud focal del arqueous (mm): \", f_a)\n",
    "print(\"Distancia a la superficie 1 del arqueous (mm): \",h1_a)\n",
    "print(\"Distancia a la superficie 2 del arqueous (mm): \",h2_a)"
   ]
  },
  {
   "cell_type": "markdown",
   "id": "10d6b14b-4898-490f-9304-5afc6b7e1ae0",
   "metadata": {},
   "source": [
    "## 3. Analizando el lente-cristalino(lens)"
   ]
  },
  {
   "cell_type": "code",
   "execution_count": 38,
   "id": "011fa57e-c59e-4525-b81c-a80ccd9c33d1",
   "metadata": {
    "tags": []
   },
   "outputs": [],
   "source": [
    "def lens(onda_nm):\n",
    "    \n",
    "    R1 = 10.0\n",
    "    R2 = -6.0\n",
    "    th = 4.0\n",
    "    n = 1.\n",
    "    \n",
    "    if onda_nm == '400':\n",
    "        n = 1.4387\n",
    "    elif onda_nm == '550':\n",
    "        n = 1.4218\n",
    "    elif onda_nm == '700':\n",
    "        n = 1.4162\n",
    "        \n",
    "    focal = foco(n,R1,R2,th)\n",
    "    \n",
    "    h1 = -1.*focal*(n-1)*th/(n*R2)\n",
    "    \n",
    "    h2 = -1.*focal*(n-1)*th/(n*R1)\n",
    "    \n",
    "    return focal,h1,h2,n,R1,R2,th"
   ]
  },
  {
   "cell_type": "code",
   "execution_count": 39,
   "id": "ff82a443-1228-4049-910b-c3ca9c02d2c6",
   "metadata": {
    "tags": []
   },
   "outputs": [
    {
     "name": "stdout",
     "output_type": "stream",
     "text": [
      "Longitud focal del cristalino (mm):  9.25338701385485\n",
      "Distancia a la superficie 1 del cristalino (mm):  1.8810782340437537\n",
      "Distancia a la superficie 2 del cristalino (mm):  -1.1286469404262522\n"
     ]
    }
   ],
   "source": [
    "f_l,h1_l,h2_l,n_l,R1_l,R2_l,th_l = lens('400')\n",
    "print(\"Longitud focal del cristalino (mm): \", f_l)\n",
    "print(\"Distancia a la superficie 1 del cristalino (mm): \",h1_l)\n",
    "print(\"Distancia a la superficie 2 del cristalino (mm): \",h2_l)"
   ]
  },
  {
   "cell_type": "markdown",
   "id": "0585dece-7663-4c8c-a4b4-38bdb864973f",
   "metadata": {},
   "source": [
    "### 4. Matrices de transferencia "
   ]
  },
  {
   "cell_type": "markdown",
   "id": "fc404247-f720-49a4-9ce1-de3c032895ef",
   "metadata": {},
   "source": [
    "#### 4.1 M.T para espacio con índice de refracción n"
   ]
  },
  {
   "cell_type": "code",
   "execution_count": 40,
   "id": "d982aa60-7723-4ee3-a624-2a5e67c69a2c",
   "metadata": {
    "tags": []
   },
   "outputs": [],
   "source": [
    "import numpy as np"
   ]
  },
  {
   "cell_type": "code",
   "execution_count": 41,
   "id": "a536ee6e-fc67-4024-8286-084739f85aa2",
   "metadata": {
    "jupyter": {
     "source_hidden": true
    },
    "tags": []
   },
   "outputs": [
    {
     "name": "stdout",
     "output_type": "stream",
     "text": [
      "[[ 2  3]\n",
      " [ 1 -1]]\n",
      "[[ 1  2]\n",
      " [ 0 -3]]\n",
      "[[ 2 -5]\n",
      " [ 1  5]]\n"
     ]
    }
   ],
   "source": [
    "A = np.array([[2, 3], [1, -1]])\n",
    "B = np.array([[1, 2], [0, -3]])\n",
    "print(A)\n",
    "print(B)\n",
    "print(np.dot(A,B))"
   ]
  },
  {
   "cell_type": "code",
   "execution_count": 42,
   "id": "988f7e74-354e-4eff-8585-75345b18e1d0",
   "metadata": {},
   "outputs": [],
   "source": [
    "#todas las matrices en mm"
   ]
  },
  {
   "cell_type": "code",
   "execution_count": 43,
   "id": "c6648359-14c4-41e2-9d6c-6d65395355c1",
   "metadata": {
    "tags": []
   },
   "outputs": [],
   "source": [
    "def matriz_espacio(onda_nm,distancia,medio='aire'):\n",
    "    \n",
    "    if onda_nm == '400':\n",
    "        n_v = 1.3494\n",
    "        n_a = 1.3515\n",
    "    elif onda_nm == '550':\n",
    "        n_v = 1.3374\n",
    "        n_a = 1.3388\n",
    "    elif onda_nm == '700':\n",
    "        n_v = 1.3331\n",
    "        n_a = 1.3343\n",
    "        \n",
    "    if medio == 'aire':\n",
    "        n = 1.\n",
    "    elif medio == 'aqueous':\n",
    "        n = n_a\n",
    "    elif medio == 'vitreous':\n",
    "        n = n_v\n",
    "        \n",
    "    M = np.array([[1,distancia/n],[0,1]])\n",
    "    return M            "
   ]
  },
  {
   "cell_type": "code",
   "execution_count": 44,
   "id": "cdc67389-b475-4d2a-92bc-00618b2bd0b8",
   "metadata": {
    "tags": []
   },
   "outputs": [
    {
     "name": "stdout",
     "output_type": "stream",
     "text": [
      "[[1.e+00 6.e+03]\n",
      " [0.e+00 1.e+00]]\n"
     ]
    }
   ],
   "source": [
    "ME = matriz_espacio('400',6000) #en el aire\n",
    "print(ME)"
   ]
  },
  {
   "cell_type": "code",
   "execution_count": 45,
   "id": "c4f86cc7-34e5-4abd-8ac6-b3ffd1fa08a6",
   "metadata": {
    "tags": []
   },
   "outputs": [
    {
     "name": "stdout",
     "output_type": "stream",
     "text": [
      "[[1.         2.21975583]\n",
      " [0.         1.        ]]\n"
     ]
    }
   ],
   "source": [
    "MA = matriz_espacio('400',3,'aqueous') #en el AQUEOUS\n",
    "print(MA)"
   ]
  },
  {
   "cell_type": "code",
   "execution_count": 46,
   "id": "12b251ca-5f10-4132-a5f1-b11aae1a1432",
   "metadata": {
    "tags": []
   },
   "outputs": [
    {
     "name": "stdout",
     "output_type": "stream",
     "text": [
      "[[ 1.         12.30176375]\n",
      " [ 0.          1.        ]]\n"
     ]
    }
   ],
   "source": [
    "MV = matriz_espacio('400',16.6,'vitreous') #en el VITREOUS\n",
    "print(MV)"
   ]
  },
  {
   "cell_type": "markdown",
   "id": "a04a135a-beae-4e7b-aa3f-674505ee77e0",
   "metadata": {},
   "source": [
    "#### 4.2 M.T para lente gruesa con índice de refracción n"
   ]
  },
  {
   "cell_type": "raw",
   "id": "f63eb323-56f1-4992-b6b5-35719ae24b58",
   "metadata": {
    "tags": []
   },
   "source": [
    "def matriz_lente(onda_nm,tipo_lente):\n",
    "    \n",
    "    if tipo_lente=='cornea':\n",
    "        f,h1,h2,n,R1,R2,th = cornea(onda_nm)\n",
    "        D1 = (n-1)/(1.*abs(R1))\n",
    "        D2 = (n-1)/(-1.*abs(R2))\n",
    "    elif tipo_lente=='aqueous':\n",
    "        f,h1,h2,n,R1,R2,th = aqueous(onda_nm)\n",
    "        D1 = (n-1)/(1.*abs(R1))\n",
    "        D2 = (n-1)/(-1.*abs(R2))\n",
    "    elif tipo_lente=='lens':\n",
    "        f,h1,h2,n,R1,R2,th = lens(onda_nm)\n",
    "        D1 = (n-1)/(1.*abs(R1))\n",
    "        D2 = (n-1)/(1.*abs(R2))\n",
    "       \n",
    "    M = np.array([[1-(D1*th)/n,th/n],[-1./f,1-(D2*th)/n]])\n",
    "    return M  "
   ]
  },
  {
   "cell_type": "raw",
   "id": "eb42d1fc-da3a-4e8e-9ed2-e9f4c29cecd0",
   "metadata": {
    "tags": []
   },
   "source": [
    "MC = matriz_lente('400','cornea')\n",
    "print(MC)"
   ]
  },
  {
   "cell_type": "code",
   "execution_count": 47,
   "id": "5634b2f4-c81f-460e-81b5-7156422d4353",
   "metadata": {
    "tags": []
   },
   "outputs": [
    {
     "name": "stdout",
     "output_type": "stream",
     "text": [
      "[[ 0.88354565  2.21975583]\n",
      " [-0.02140606  1.07802442]]\n"
     ]
    }
   ],
   "source": [
    "MA = matriz_lente('400','aqueous')\n",
    "print(MA)"
   ]
  },
  {
   "cell_type": "raw",
   "id": "d432365f-d1fc-4f7d-8997-12ea407239d9",
   "metadata": {
    "tags": []
   },
   "source": [
    "ML = matriz_lente('400','lens')\n",
    "print(ML)"
   ]
  },
  {
   "cell_type": "raw",
   "id": "0e15d693-7823-4675-8265-289b8fff91be",
   "metadata": {
    "tags": []
   },
   "source": [
    "MI= np.array([[1,0],[0,1]])\n",
    "print(MI)"
   ]
  },
  {
   "cell_type": "raw",
   "id": "a26dddae-9ca2-4895-8376-ce84b9d147f7",
   "metadata": {
    "tags": []
   },
   "source": [
    "MT = np.dot(MV,np.dot(ML,np.dot(MA,np.dot(MC,ME))))\n",
    "print(MT)"
   ]
  },
  {
   "cell_type": "raw",
   "id": "c02ca563-75ef-4c62-95a6-e54b0bb1ee95",
   "metadata": {
    "tags": []
   },
   "source": [
    "MT = np.dot(MV,np.dot(ML,np.dot(MA,np.dot(MC,ME))))\n",
    "print(MT)"
   ]
  },
  {
   "cell_type": "raw",
   "id": "6e4edfd4-3057-4888-94bb-b476bdd3cfa0",
   "metadata": {
    "tags": []
   },
   "source": [
    "M = ML@MA@MC\n",
    "print(M)"
   ]
  },
  {
   "cell_type": "raw",
   "id": "515561ea-9234-452d-93a8-4c13732ac160",
   "metadata": {},
   "source": [
    "a11=M[0][0]\n",
    "a12=M[0][1]\n",
    "a21=M[1][0]\n",
    "a22=M[1][1]\n",
    "print(a12)"
   ]
  },
  {
   "cell_type": "raw",
   "id": "7472451f-8bbb-4a8d-89ad-2bd24bc13238",
   "metadata": {
    "tags": []
   },
   "source": [
    "f0=1./a21\n",
    "print(f0*10)"
   ]
  },
  {
   "cell_type": "raw",
   "id": "b8f1f290-48a6-45a8-a8f3-3a92091886bb",
   "metadata": {
    "tags": []
   },
   "source": [
    "nt=1.3494\n",
    "fi=-1.*nt/a21\n",
    "print(fi*10)"
   ]
  },
  {
   "cell_type": "raw",
   "id": "464ff00b-b81f-4b3b-bb73-fec67ad4de20",
   "metadata": {
    "tags": []
   },
   "source": [
    "V2H2 = nt*(1-a11)/(a21)\n",
    "print(V2H2*10)"
   ]
  },
  {
   "cell_type": "raw",
   "id": "6b70c3b0-d7b0-4383-9729-9a68db47d11c",
   "metadata": {
    "tags": []
   },
   "source": [
    "V1H1 = (a22-1)/a21\n",
    "print(V1H1*10)"
   ]
  },
  {
   "cell_type": "raw",
   "id": "00fef259-8172-47e3-b1bf-9ffab023d706",
   "metadata": {
    "tags": []
   },
   "source": [
    "MM = ML@MA@MC@ME"
   ]
  },
  {
   "cell_type": "code",
   "execution_count": 48,
   "id": "a763e091-7edd-446f-8d15-2ae9419d7ced",
   "metadata": {
    "tags": []
   },
   "outputs": [
    {
     "data": {
      "text/plain": [
       "array([[ 7.38794601e-01,  4.43807505e+03],\n",
       "       [-1.06083480e-01, -6.35909421e+02]])"
      ]
     },
     "execution_count": 48,
     "metadata": {},
     "output_type": "execute_result"
    }
   ],
   "source": [
    "MM"
   ]
  },
  {
   "cell_type": "raw",
   "id": "4e3ddb29-a20a-4542-b4eb-b1bb5abf37ad",
   "metadata": {
    "tags": []
   },
   "source": [
    "B = MM[0][1]\n",
    "D = MM[1][1]\n",
    "\n",
    "-1.*(B*n_v)/D"
   ]
  },
  {
   "cell_type": "markdown",
   "id": "21547cfe-1ccc-411d-a593-a99af934ec2b",
   "metadata": {
    "tags": []
   },
   "source": [
    "### Corrección de miopia"
   ]
  },
  {
   "cell_type": "raw",
   "id": "53361326-8a96-4d97-b993-7540fd5a9d5a",
   "metadata": {
    "tags": []
   },
   "source": [
    "def focal_lentes(fm=14.351493):\n",
    "    f_ = (1/16.3-1/fm)\n",
    "    return(1/f_)"
   ]
  },
  {
   "cell_type": "raw",
   "id": "1bb318a8-9974-41bc-bbf7-7aa9cbc4df69",
   "metadata": {
    "tags": []
   },
   "source": [
    "f_lente = focal_lentes(14.351493)\n",
    "print(\"La longitud focal de la lente divergente es: %.2f mm \"%f_lente)"
   ]
  },
  {
   "cell_type": "raw",
   "id": "59aaef9a-147f-408e-be98-b229f1fc4c7b",
   "metadata": {
    "tags": []
   },
   "source": [
    "1000./f_lente"
   ]
  },
  {
   "cell_type": "code",
   "execution_count": 49,
   "id": "ac50fb5d-0dd6-4594-8500-49dd628a13bb",
   "metadata": {},
   "outputs": [],
   "source": [
    "## matrices"
   ]
  },
  {
   "cell_type": "code",
   "execution_count": 50,
   "id": "900adc1e-25d0-42e7-a5e3-b4246fd4eaac",
   "metadata": {
    "tags": []
   },
   "outputs": [
    {
     "name": "stdout",
     "output_type": "stream",
     "text": [
      "[[   1 6000]\n",
      " [   0    1]]\n"
     ]
    }
   ],
   "source": [
    "M1 = np.array([[1,6000],[0,1]])\n",
    "print(M1)"
   ]
  },
  {
   "cell_type": "code",
   "execution_count": 51,
   "id": "a3a350d7-19ef-432d-ab9d-4ba2f232f666",
   "metadata": {
    "tags": []
   },
   "outputs": [
    {
     "name": "stdout",
     "output_type": "stream",
     "text": [
      "[[ 1.          0.        ]\n",
      " [-0.04997436  1.        ]]\n"
     ]
    }
   ],
   "source": [
    "M2 = np.array([[1,0],[(1-n_c)/abs(R1_c),1]])\n",
    "print(M2)"
   ]
  },
  {
   "cell_type": "code",
   "execution_count": 52,
   "id": "4db45b9c-8677-4e1c-99bf-789af50e861c",
   "metadata": {
    "tags": []
   },
   "outputs": [
    {
     "name": "stdout",
     "output_type": "stream",
     "text": [
      "[[1.         0.35976399]\n",
      " [0.         1.        ]]\n"
     ]
    }
   ],
   "source": [
    "M3 = np.array([[1,th_c/(n_c)],[0,1]])\n",
    "print(M3)"
   ]
  },
  {
   "cell_type": "code",
   "execution_count": 53,
   "id": "8e0f83ac-31e6-47a0-b342-5aaee5d9469c",
   "metadata": {
    "tags": []
   },
   "outputs": [
    {
     "name": "stdout",
     "output_type": "stream",
     "text": [
      "[[1.         0.        ]\n",
      " [0.00571642 1.        ]]\n"
     ]
    }
   ],
   "source": [
    "M4 = np.array([[1,0],[(n_c-n_a)/abs(R2_c),1]])\n",
    "print(M4)"
   ]
  },
  {
   "cell_type": "code",
   "execution_count": 54,
   "id": "fc844cfd-5f09-44ae-ab48-27200a83fd75",
   "metadata": {
    "tags": []
   },
   "outputs": [
    {
     "name": "stdout",
     "output_type": "stream",
     "text": [
      "[[1.         2.21975583]\n",
      " [0.         1.        ]]\n"
     ]
    }
   ],
   "source": [
    "M5 = np.array([[1,th_a/(n_a)],[0,1]])\n",
    "print(M5)"
   ]
  },
  {
   "cell_type": "code",
   "execution_count": 55,
   "id": "f0adbe70-c848-4ec5-8a5d-e57136e23307",
   "metadata": {
    "tags": []
   },
   "outputs": [
    {
     "name": "stdout",
     "output_type": "stream",
     "text": [
      "[[ 1.       0.     ]\n",
      " [-0.00872  1.     ]]\n"
     ]
    }
   ],
   "source": [
    "M6 = np.array([[1,0],[(n_a-n_l)/abs(R1_l),1]])\n",
    "print(M6)"
   ]
  },
  {
   "cell_type": "code",
   "execution_count": 56,
   "id": "b17b0197-cde5-4178-b46d-40d9b08cf2a2",
   "metadata": {
    "tags": []
   },
   "outputs": [
    {
     "name": "stdout",
     "output_type": "stream",
     "text": [
      "[[1.         2.78028776]\n",
      " [0.         1.        ]]\n"
     ]
    }
   ],
   "source": [
    "M7 = np.array([[1,th_l/(n_l)],[0,1]])\n",
    "print(M7)"
   ]
  },
  {
   "cell_type": "code",
   "execution_count": 57,
   "id": "9a73fce0-34f0-47a2-b2da-1d7cabf67d9e",
   "metadata": {
    "tags": []
   },
   "outputs": [
    {
     "name": "stdout",
     "output_type": "stream",
     "text": [
      "[[ 1.          0.        ]\n",
      " [-0.01488333  1.        ]]\n"
     ]
    }
   ],
   "source": [
    "n_v = 1.3494\n",
    "M8 = np.array([[1,0],[-1*(n_l-n_v)/abs(R2_l),1]])\n",
    "print(M8)"
   ]
  },
  {
   "cell_type": "code",
   "execution_count": 58,
   "id": "29bce5b8-bfbd-4611-89cb-afed5c9654b4",
   "metadata": {
    "tags": []
   },
   "outputs": [
    {
     "name": "stdout",
     "output_type": "stream",
     "text": [
      "[[ 7.38794601e-01  4.43807505e+03]\n",
      " [-6.30610080e-02 -3.77465517e+02]]\n"
     ]
    }
   ],
   "source": [
    "MMM = M8@M7@M6@M5@M4@M3@M2@M1\n",
    "print(MMM)"
   ]
  },
  {
   "cell_type": "code",
   "execution_count": 59,
   "id": "e875c010-424c-4e8e-8841-d1266147922c",
   "metadata": {
    "tags": []
   },
   "outputs": [
    {
     "data": {
      "text/plain": [
       "15.865657117104533"
      ]
     },
     "execution_count": 59,
     "metadata": {},
     "output_type": "execute_result"
    }
   ],
   "source": [
    "B = MMM[0][1]\n",
    "D = MMM[1][1]\n",
    "\n",
    "-1.*(B*n_v)/D"
   ]
  },
  {
   "cell_type": "code",
   "execution_count": 60,
   "id": "600e1c58-ffd1-4540-98e0-8d431f81830e",
   "metadata": {
    "tags": []
   },
   "outputs": [
    {
     "data": {
      "text/plain": [
       "-0.002649248619145772"
      ]
     },
     "execution_count": 60,
     "metadata": {},
     "output_type": "execute_result"
    }
   ],
   "source": [
    "1/D"
   ]
  },
  {
   "cell_type": "code",
   "execution_count": 61,
   "id": "02ffbad7-a185-4394-ab71-c7332e3c73d5",
   "metadata": {},
   "outputs": [],
   "source": [
    "SO=M8@M7@M6@M5@M4@M3@M2"
   ]
  },
  {
   "cell_type": "code",
   "execution_count": 62,
   "id": "75959a91-1287-4d9a-a7e9-6fb595396b4a",
   "metadata": {
    "tags": []
   },
   "outputs": [
    {
     "data": {
      "text/plain": [
       "array([[ 0.7387946 ,  5.30744164],\n",
       "       [-0.06306101,  0.90053092]])"
      ]
     },
     "execution_count": 62,
     "metadata": {},
     "output_type": "execute_result"
    }
   ],
   "source": [
    "SO"
   ]
  },
  {
   "cell_type": "code",
   "execution_count": 63,
   "id": "d99ed5fd-57d0-41f5-a0c4-b328b10392e1",
   "metadata": {
    "tags": []
   },
   "outputs": [
    {
     "data": {
      "text/plain": [
       "9.426538397167228"
      ]
     },
     "execution_count": 63,
     "metadata": {},
     "output_type": "execute_result"
    }
   ],
   "source": [
    "-1./a21"
   ]
  },
  {
   "cell_type": "code",
   "execution_count": 64,
   "id": "cf241a8b-60c5-4630-a1d2-307db8ae0955",
   "metadata": {
    "tags": []
   },
   "outputs": [
    {
     "name": "stdout",
     "output_type": "stream",
     "text": [
      "5.307441641497943\n"
     ]
    }
   ],
   "source": [
    "a11=SO[0][0]\n",
    "a12=SO[0][1]\n",
    "a21=SO[1][0]\n",
    "a22=SO[1][1]\n",
    "print(a12)"
   ]
  },
  {
   "cell_type": "code",
   "execution_count": 65,
   "id": "c82f3a32-f54b-46d4-8000-01c87fce3205",
   "metadata": {
    "tags": []
   },
   "outputs": [
    {
     "name": "stdout",
     "output_type": "stream",
     "text": [
      "21.398325885806752\n"
     ]
    }
   ],
   "source": [
    "nt=1.3494\n",
    "fi=-1.*nt/a21\n",
    "print(fi)"
   ]
  },
  {
   "cell_type": "code",
   "execution_count": 66,
   "id": "7964185a-44b8-456f-9867-9d418cc0d0d8",
   "metadata": {
    "tags": []
   },
   "outputs": [
    {
     "name": "stdout",
     "output_type": "stream",
     "text": [
      "1.5773468439954579\n"
     ]
    }
   ],
   "source": [
    "V1H1 = (a22-1)/a21\n",
    "print(V1H1)"
   ]
  },
  {
   "cell_type": "code",
   "execution_count": 67,
   "id": "47769227-badf-468d-a483-b3fa250d8eff",
   "metadata": {
    "tags": []
   },
   "outputs": [
    {
     "name": "stdout",
     "output_type": "stream",
     "text": [
      "-5.589358254007225\n"
     ]
    }
   ],
   "source": [
    "V2H2 = nt*(1-a11)/(a21)\n",
    "print(V2H2)"
   ]
  },
  {
   "cell_type": "code",
   "execution_count": 68,
   "id": "ac770473-7c03-431d-8575-7aaa36b5756a",
   "metadata": {
    "tags": []
   },
   "outputs": [
    {
     "data": {
      "text/plain": [
       "15.808967631799527"
      ]
     },
     "execution_count": 68,
     "metadata": {},
     "output_type": "execute_result"
    }
   ],
   "source": [
    "fi+V2H2"
   ]
  },
  {
   "cell_type": "code",
   "execution_count": 69,
   "id": "a438041c-91c9-4613-b2ef-48df507a29dd",
   "metadata": {
    "tags": []
   },
   "outputs": [
    {
     "name": "stdout",
     "output_type": "stream",
     "text": [
      "-15.857659615982476\n"
     ]
    }
   ],
   "source": [
    "f0=1./a21\n",
    "print(f0)"
   ]
  },
  {
   "cell_type": "code",
   "execution_count": 71,
   "id": "58db05ce-7a90-4378-8232-471c0b7bacc5",
   "metadata": {},
   "outputs": [
    {
     "data": {
      "text/plain": [
       "14.280312771987017"
      ]
     },
     "execution_count": 71,
     "metadata": {},
     "output_type": "execute_result"
    }
   ],
   "source": [
    "abs(f0)-V1H1"
   ]
  },
  {
   "cell_type": "code",
   "execution_count": null,
   "id": "4dc0f237-5690-4027-a852-7998f98a2c9d",
   "metadata": {},
   "outputs": [],
   "source": []
  }
 ],
 "metadata": {
  "kernelspec": {
   "display_name": "Python 3 (ipykernel)",
   "language": "python",
   "name": "python3"
  },
  "language_info": {
   "codemirror_mode": {
    "name": "ipython",
    "version": 3
   },
   "file_extension": ".py",
   "mimetype": "text/x-python",
   "name": "python",
   "nbconvert_exporter": "python",
   "pygments_lexer": "ipython3",
   "version": "3.11.4"
  }
 },
 "nbformat": 4,
 "nbformat_minor": 5
}
